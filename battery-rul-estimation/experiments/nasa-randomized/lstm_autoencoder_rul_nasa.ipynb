{
 "cells": [
  {
   "cell_type": "markdown",
   "metadata": {
    "id": "jw9FMur02UtZ"
   },
   "source": [
    "# RUL estimation Nasa Randomized dataset"
   ]
  },
  {
   "cell_type": "code",
   "execution_count": null,
   "metadata": {
    "id": "XKxZ90kO2Uta"
   },
   "outputs": [],
   "source": [
    "import numpy as np\n",
    "import pandas as pd\n",
    "import scipy.io\n",
    "import math\n",
    "import os\n",
    "import ntpath\n",
    "import sys\n",
    "import logging\n",
    "import time\n",
    "import sys\n",
    "import random\n",
    "\n",
    "from importlib import reload\n",
    "import plotly.graph_objects as go\n",
    "\n",
    "import tensorflow as tf\n",
    "from tensorflow import keras\n",
    "from tensorflow.keras import layers, regularizers\n",
    "from tensorflow.keras.models import Model\n",
    "\n",
    "from tensorflow.keras.models import Sequential\n",
    "from tensorflow.keras.layers import Dense, Dropout, Activation\n",
    "from tensorflow.keras.optimizers import Adam\n",
    "from tensorflow.keras.layers import LSTM, Masking\n",
    "\n",
    "\n",
    "IS_COLAB = False\n",
    "IS_TRAINING = True\n",
    "RESULT_NAME = \"\"\n",
    "\n",
    "if IS_COLAB:\n",
    "    from google.colab import drive\n",
    "    drive.mount('/content/drive')\n",
    "    data_path = \"/content/drive/My Drive/battery-rul-estimation/experiments/\"\n",
    "else:\n",
    "    data_path = \"../../\"\n",
    "\n",
    "sys.path.append(data_path)\n",
    "from data_processing.nasa_random_data import NasaRandomizedData\n",
    "from data_processing.prepare_rul_data import RulHandler"
   ]
  },
  {
   "cell_type": "markdown",
   "metadata": {
    "id": "MfVCRISs2Utc"
   },
   "source": [
    "### Config logging"
   ]
  },
  {
   "cell_type": "code",
   "execution_count": null,
   "metadata": {
    "id": "K2IvySBk2Utd"
   },
   "outputs": [],
   "source": [
    "reload(logging)\n",
    "logging.basicConfig(format='%(asctime)s [%(levelname)s]: %(message)s', level=logging.DEBUG, datefmt='%Y/%m/%d %H:%M:%S')"
   ]
  },
  {
   "cell_type": "markdown",
   "metadata": {
    "id": "KsbkwTX22Utf"
   },
   "source": [
    "# Load Data"
   ]
  },
  {
   "cell_type": "code",
   "execution_count": null,
   "metadata": {
    "id": "NSFp-2Rl2Utj"
   },
   "outputs": [],
   "source": [
    "train_names_10k = [\n",
    "        'RW_Skewed_Low_Room_Temp_DataSet_2Post/data/Matlab/RW13',\n",
    "        'RW_Skewed_Low_Room_Temp_DataSet_2Post/data/Matlab/RW14',\n",
    "        'RW_Skewed_Low_Room_Temp_DataSet_2Post/data/Matlab/RW15',\n",
    "\n",
    "        'RW_Skewed_Low_40C_DataSet_2Post/data/Matlab/RW21',\n",
    "        'RW_Skewed_Low_40C_DataSet_2Post/data/Matlab/RW22',\n",
    "        'RW_Skewed_Low_40C_DataSet_2Post/data/Matlab/RW23',\n",
    "\n",
    "        'RW_Skewed_High_40C_DataSet_2Post/data/Matlab/RW25',\n",
    "        'RW_Skewed_High_40C_DataSet_2Post/data/Matlab/RW26',\n",
    "        'RW_Skewed_High_40C_DataSet_2Post/data/Matlab/RW27',\n",
    "]\n",
    "\n",
    "test_names_10k = [\n",
    "        'RW_Skewed_Low_Room_Temp_DataSet_2Post/data/Matlab/RW16',\n",
    "        'RW_Skewed_Low_40C_DataSet_2Post/data/Matlab/RW24',\n",
    "        'RW_Skewed_High_40C_DataSet_2Post/data/Matlab/RW28',\n",
    "]\n",
    "\n",
    "train_names_20k = [\n",
    "        'Battery_Uniform_Distribution_Variable_Charge_Room_Temp_DataSet_2Post/data/Matlab/RW1',\n",
    "        'Battery_Uniform_Distribution_Variable_Charge_Room_Temp_DataSet_2Post/data/Matlab/RW2',\n",
    "        'Battery_Uniform_Distribution_Variable_Charge_Room_Temp_DataSet_2Post/data/Matlab/RW7',\n",
    "\n",
    "        #'Battery_Uniform_Distribution_Discharge_Room_Temp_DataSet_2Post/data/Matlab/RW3',\n",
    "        'Battery_Uniform_Distribution_Discharge_Room_Temp_DataSet_2Post/data/Matlab/RW4',\n",
    "        'Battery_Uniform_Distribution_Discharge_Room_Temp_DataSet_2Post/data/Matlab/RW5',\n",
    "\n",
    "        #'Battery_Uniform_Distribution_Charge_Discharge_DataSet_2Post/data/Matlab/RW9',\n",
    "        #'Battery_Uniform_Distribution_Charge_Discharge_DataSet_2Post/data/Matlab/RW10',\n",
    "        #'Battery_Uniform_Distribution_Charge_Discharge_DataSet_2Post/data/Matlab/RW11',\n",
    "]\n",
    "\n",
    "test_names_20k = [\n",
    "        'Battery_Uniform_Distribution_Variable_Charge_Room_Temp_DataSet_2Post/data/Matlab/RW8',\n",
    "        'Battery_Uniform_Distribution_Discharge_Room_Temp_DataSet_2Post/data/Matlab/RW6',\n",
    "        #'Battery_Uniform_Distribution_Charge_Discharge_DataSet_2Post/data/Matlab/RW12',\n",
    "]\n",
    "\n",
    "train_names_100k = [\n",
    "        'RW_Skewed_High_Room_Temp_DataSet_2Post/data/Matlab/RW17',\n",
    "        'RW_Skewed_High_Room_Temp_DataSet_2Post/data/Matlab/RW18',\n",
    "        'RW_Skewed_High_Room_Temp_DataSet_2Post/data/Matlab/RW19',\n",
    "]\n",
    "\n",
    "test_names_no_100k = [\n",
    "        'RW_Skewed_High_Room_Temp_DataSet_2Post/data/Matlab/RW20',\n",
    "]"
   ]
  },
  {
   "cell_type": "code",
   "execution_count": null,
   "metadata": {
    "id": "k-yTrXQ12Utm"
   },
   "outputs": [],
   "source": [
    "nasa_data_handler = NasaRandomizedData(data_path)\n",
    "rul_handler = RulHandler()"
   ]
  },
  {
   "cell_type": "markdown",
   "metadata": {
    "id": "bAAxueIqkZM9"
   },
   "source": [
    "# Data preparation"
   ]
  },
  {
   "cell_type": "code",
   "execution_count": null,
   "metadata": {},
   "outputs": [],
   "source": [
    "# Getting data splitted by frequency\n",
    "(train_x_10k, train_y_soh_10k, test_x_10k, test_y_soh_10k, \n",
    "  battery_range_cycle_train_10k, battery_range_cycle_test_10k,\n",
    "  time_train_10k, time_test_10k, current_train_10k, current_test_10k\n",
    "  ) = nasa_data_handler.get_discharge_whole_cycle_future(train_names_10k, test_names_10k)\n",
    "(train_x_20k, train_y_soh_20k, test_x_20k, test_y_soh_20k,\n",
    "  battery_range_cycle_train_20k, battery_range_cycle_test_20k,\n",
    "  time_train_20k, time_test_20k, current_train_20k, current_test_20k\n",
    "  ) = nasa_data_handler.get_discharge_whole_cycle_future(train_names_20k, test_names_20k)\n",
    "(train_x_100k, train_y_soh_100k, test_x_no_100k, test_y_soh_100k,\n",
    "  battery_range_cycle_train_100k, battery_range_cycle_test_100k,\n",
    "  time_train_100k, time_test_100k, current_train_100k, current_test_100k\n",
    "  ) = nasa_data_handler.get_discharge_whole_cycle_future(train_names_100k, test_names_no_100k)\n",
    "\n",
    "\n",
    "# let data have same length by sampling and unify them\n",
    "train_x_20k = train_x_20k[:, ::2, :]\n",
    "test_x_20k = test_x_20k[:, ::2, :]\n",
    "train_x_100k = train_x_100k[:, ::10, :]\n",
    "max_lenght = max(train_x_10k.shape[1], test_x_10k.shape[1], train_x_20k.shape[1], test_x_20k.shape[1], train_x_100k.shape[1], test_x_no_100k.shape[1])\n",
    "\n",
    "train_x = np.zeros((\n",
    "        train_x_10k.shape[0] + train_x_20k.shape[0] + train_x_100k.shape[0],\n",
    "        max_lenght,\n",
    "        train_x_10k.shape[2]))\n",
    "train_x[:train_x_10k.shape[0], :train_x_10k.shape[1], :] = train_x_10k\n",
    "train_x[train_x_10k.shape[0]:train_x_10k.shape[0]+train_x_20k.shape[0], :train_x_20k.shape[1], :] = train_x_20k\n",
    "train_x[train_x_10k.shape[0]+train_x_20k.shape[0]:, :train_x_100k.shape[1], :] = train_x_100k\n",
    "\n",
    "test_x = np.zeros((\n",
    "        test_x_10k.shape[0] + test_x_20k.shape[0] + test_x_no_100k.shape[0],\n",
    "        max_lenght,\n",
    "        test_x_10k.shape[2]))\n",
    "test_x[:test_x_10k.shape[0], :test_x_10k.shape[1], :] = test_x_10k\n",
    "test_x[test_x_10k.shape[0]:test_x_10k.shape[0]+test_x_20k.shape[0], :test_x_20k.shape[1], :] = test_x_20k\n",
    "test_x[test_x_10k.shape[0]+test_x_20k.shape[0]:, :test_x_no_100k.shape[1], :] = test_x_no_100k\n",
    "\n",
    "print(\"train shape {}\".format(train_x.shape))\n",
    "print(\"test shape {}\".format(test_x.shape))\n",
    "\n",
    "train_x = train_x[:,:11800,:]\n",
    "test_x = test_x[:,:11800,:]\n",
    "print(\"cut train shape {}\".format(train_x.shape))\n",
    "print(\"cut test shape {}\".format(test_x.shape))\n",
    "\n",
    "\n",
    "train_names = train_names_10k + train_names_20k + train_names_100k\n",
    "test_names = test_names_10k + test_names_20k + test_names_no_100k\n",
    "\n",
    "battery_range_cycle_train_20k += battery_range_cycle_train_10k[-1]\n",
    "battery_range_cycle_train_100k += battery_range_cycle_train_20k[-1]\n",
    "train_battery_range = np.concatenate((battery_range_cycle_train_10k, battery_range_cycle_train_20k, battery_range_cycle_train_100k), axis=None)\n",
    "battery_range_cycle_test_20k += battery_range_cycle_test_10k[-1]\n",
    "battery_range_cycle_test_100k += battery_range_cycle_test_20k[-1]\n",
    "test_battery_range = np.concatenate((battery_range_cycle_test_10k, battery_range_cycle_test_20k, battery_range_cycle_test_100k), axis=None)\n",
    "\n",
    "max_lenght = max(time_train_10k.shape[1], time_train_20k.shape[1], time_train_100k.shape[1], time_test_10k.shape[1], time_test_20k.shape[1], time_test_100k.shape[1])\n",
    "#\n",
    "time_train = np.zeros((\n",
    "        time_train_10k.shape[0] + time_train_20k.shape[0] + time_train_100k.shape[0],\n",
    "        max_lenght))\n",
    "time_train[:time_train_10k.shape[0], :time_train_10k.shape[1]] = time_train_10k\n",
    "time_train[time_train_10k.shape[0]:time_train_10k.shape[0]+time_train_20k.shape[0], :time_train_20k.shape[1]] = time_train_20k\n",
    "time_train[time_train_10k.shape[0]+time_train_20k.shape[0]:, :time_train_100k.shape[1]] = time_train_100k\n",
    "time_test = np.zeros((\n",
    "        time_test_10k.shape[0] + time_test_20k.shape[0] + time_test_100k.shape[0],\n",
    "        max_lenght))\n",
    "time_test[:time_test_10k.shape[0], :time_test_10k.shape[1]] = time_test_10k\n",
    "time_test[time_test_10k.shape[0]:time_test_10k.shape[0]+time_test_20k.shape[0], :time_test_20k.shape[1]] = time_test_20k\n",
    "time_test[time_test_10k.shape[0]+time_test_20k.shape[0]:, :time_test_100k.shape[1]] = time_test_100k\n",
    "#\n",
    "current_train = np.zeros((\n",
    "        current_train_10k.shape[0] + current_train_20k.shape[0] + current_train_100k.shape[0],\n",
    "        max_lenght))\n",
    "current_train[:current_train_10k.shape[0], :current_train_10k.shape[1]] = current_train_10k\n",
    "current_train[current_train_10k.shape[0]:current_train_10k.shape[0]+current_train_20k.shape[0], :current_train_20k.shape[1]] = current_train_20k\n",
    "current_train[current_train_10k.shape[0]+current_train_20k.shape[0]:, :current_train_100k.shape[1]] = current_train_100k\n",
    "current_test = np.zeros((\n",
    "        current_test_10k.shape[0] + current_test_20k.shape[0] + current_test_100k.shape[0],\n",
    "        max_lenght))\n",
    "current_test[:current_test_10k.shape[0], :current_test_10k.shape[1]] = current_test_10k\n",
    "current_test[current_test_10k.shape[0]:current_test_10k.shape[0]+current_test_20k.shape[0], :current_test_20k.shape[1]] = current_test_20k\n",
    "current_test[current_test_10k.shape[0]+current_test_20k.shape[0]:, :current_test_100k.shape[1]] = current_test_100k\n",
    "\n",
    "train_y_soh = np.concatenate((train_y_soh_10k, train_y_soh_20k, train_y_soh_100k), axis=None)\n",
    "test_y_soh = np.concatenate((test_y_soh_10k, test_y_soh_20k, test_y_soh_100k), axis=None)\n",
    "\n",
    "print(\"train names shape {}\".format(len(train_names)))\n",
    "print(\"test names shape {}\".format(len(test_names)))\n",
    "print(\"train battery range {}\".format(train_battery_range))\n",
    "print(\"test battery range {}\".format(test_battery_range))\n",
    "print(\"train time shape {}\".format(time_train.shape))\n",
    "print(\"test time shape {}\".format(time_test.shape))\n",
    "print(\"train current shape {}\".format(current_train.shape))\n",
    "print(\"test current shape {}\".format(current_test.shape))\n",
    "print(\"train y soh shape {}\".format(train_y_soh.shape))\n",
    "print(\"test y soh shape {}\".format(test_y_soh.shape))"
   ]
  },
  {
   "cell_type": "code",
   "execution_count": null,
   "metadata": {},
   "outputs": [],
   "source": [
    "CAPACITY_THRESHOLDS = None\n",
    "NOMINAL_CAPACITY = 2.2\n",
    "N_CYCLE = 500\n",
    "WARMUP_TRAIN = 15\n",
    "WARMUP_TEST = 30\n",
    "\n",
    "#preparing y\n",
    "train_y = rul_handler.prepare_y_future(train_names, train_battery_range, train_y_soh, current_train, time_train, CAPACITY_THRESHOLDS, capacity=NOMINAL_CAPACITY)\n",
    "del globals()[\"current_train\"]\n",
    "del globals()[\"time_train\"]\n",
    "test_y = rul_handler.prepare_y_future(test_names, test_battery_range, test_y_soh, current_test, time_test, CAPACITY_THRESHOLDS, capacity=NOMINAL_CAPACITY)\n",
    "del globals()[\"current_test\"]\n",
    "del globals()[\"time_test\"]\n",
    "\n",
    "x_norm = rul_handler.Normalization()\n",
    "train_x, test_x = x_norm.fit_and_normalize(train_x, test_x)"
   ]
  },
  {
   "cell_type": "markdown",
   "metadata": {},
   "source": [
    "## compressing x using autoencoder"
   ]
  },
  {
   "cell_type": "code",
   "execution_count": null,
   "metadata": {},
   "outputs": [],
   "source": [
    "AUTOENCODER_WEIGHTS = '2021-07-14-11-03-54_autoencoder_nasa_randomized'\n",
    "\n",
    "# Model definition\n",
    "opt = tf.keras.optimizers.Adam(learning_rate=0.0002)\n",
    "LATENT_DIM = 15\n",
    "\n",
    "class Autoencoder(Model):\n",
    "    def __init__(self, latent_dim):\n",
    "        super(Autoencoder, self).__init__()\n",
    "        self.latent_dim = latent_dim\n",
    "        self.encoder = tf.keras.Sequential([\n",
    "            layers.Input(shape=(train_x.shape[1], train_x.shape[2])),\n",
    "            #layers.MaxPooling1D(5, padding='same'),\n",
    "            layers.Conv1D(filters=16, kernel_size=5, strides=2, activation='relu', padding='same'),\n",
    "            layers.Conv1D(filters=8, kernel_size=3, strides=2, activation='relu', padding='same'),\n",
    "            layers.Flatten(),\n",
    "            layers.Dense(self.latent_dim, activation='relu')\n",
    "        ])\n",
    "        self.decoder = tf.keras.Sequential([\n",
    "            layers.Input(shape=(self.latent_dim)),\n",
    "            layers.Dense(23600, activation='relu'),\n",
    "            layers.Reshape((2950, 8)),\n",
    "            layers.Conv1DTranspose(filters=8, kernel_size=3, strides=2, activation='relu', padding='same'),\n",
    "            layers.Conv1DTranspose(filters=16, kernel_size=5, strides=2, activation='relu', padding='same'),\n",
    "            layers.Conv1D(3, kernel_size=3, activation='relu', padding='same'),\n",
    "            #layers.UpSampling1D(5),\n",
    "        ])\n",
    "\n",
    "\n",
    "    def call(self, x):\n",
    "        encoded = self.encoder(x)\n",
    "        decoded = self.decoder(encoded)\n",
    "        return decoded\n",
    "\n",
    "autoencoder = Autoencoder(LATENT_DIM)\n",
    "autoencoder.compile(optimizer=opt, loss='mse', metrics=['mse', 'mae', 'mape', tf.keras.metrics.RootMeanSquaredError(name='rmse')])\n",
    "autoencoder.encoder.summary()\n",
    "autoencoder.decoder.summary()\n",
    "\n",
    "autoencoder.load_weights(data_path + 'results/trained_model/%s/model' % AUTOENCODER_WEIGHTS)\n",
    "\n",
    "\n",
    "# compression\n",
    "train_x = autoencoder.encoder(train_x).numpy()\n",
    "test_x = autoencoder.encoder(test_x).numpy()\n",
    "print(\"compressed train x shape {}\".format(train_x.shape))\n",
    "print(\"compressed test x shape {}\".format(test_x.shape))\n",
    "test_x = test_x[:,~np.all(train_x == 0, axis=0)]#we need same column number of training\n",
    "train_x = train_x[:,~np.all(train_x == 0, axis=0)]\n",
    "print(\"compressed train x shape without zero column {}\".format(train_x.shape))\n",
    "print(\"compressed test x shape without zero column {}\".format(test_x.shape))"
   ]
  },
  {
   "cell_type": "markdown",
   "metadata": {},
   "source": [
    "## data preparation for lstm"
   ]
  },
  {
   "cell_type": "code",
   "execution_count": null,
   "metadata": {},
   "outputs": [],
   "source": [
    "x_norm = rul_handler.Normalization()\n",
    "train_x, test_x = x_norm.fit_and_normalize(train_x, test_x)\n",
    "\n",
    "train_x = rul_handler.battery_life_to_time_series(train_x, N_CYCLE, train_battery_range)\n",
    "test_x = rul_handler.battery_life_to_time_series(test_x, N_CYCLE, test_battery_range)\n",
    "\n",
    "train_x, train_y, train_battery_range, train_y_soh = rul_handler.delete_initial(train_x, train_y, train_battery_range, train_y_soh, WARMUP_TRAIN)\n",
    "test_x, test_y, test_battery_range, test_y_soh = rul_handler.delete_initial(test_x, test_y, test_battery_range, test_y_soh, WARMUP_TEST)\n",
    "\n",
    "train_x, train_y, train_battery_range, train_y_soh = rul_handler.limit_zeros(train_x, train_y, train_battery_range, train_y_soh)\n",
    "test_x, test_y, test_battery_range, test_y_soh = rul_handler.limit_zeros(test_x, test_y, test_battery_range, test_y_soh)\n",
    "\n",
    "# first one is SOH, we keep only RUL\n",
    "train_y = train_y[:,1]\n",
    "test_y = test_y[:,1]"
   ]
  },
  {
   "cell_type": "markdown",
   "metadata": {
    "id": "GskElnOAxTil"
   },
   "source": [
    "## Y normalization"
   ]
  },
  {
   "cell_type": "code",
   "execution_count": null,
   "metadata": {
    "id": "5EOallNnxSpQ"
   },
   "outputs": [],
   "source": [
    "y_norm = rul_handler.Normalization()\n",
    "train_y, test_y = y_norm.fit_and_normalize(train_y, test_y)"
   ]
  },
  {
   "cell_type": "markdown",
   "metadata": {
    "id": "7iYU-n0K2Utq"
   },
   "source": [
    "# Model training"
   ]
  },
  {
   "cell_type": "code",
   "execution_count": null,
   "metadata": {
    "id": "LSx96n4w2Uts"
   },
   "outputs": [],
   "source": [
    "if IS_TRAINING:\n",
    "    EXPERIMENT = \"lstm_autoencoder_rul_nasa_randomized\"\n",
    "\n",
    "    experiment_name = time.strftime(\"%Y-%m-%d-%H-%M-%S\") + '_' + EXPERIMENT\n",
    "    print(experiment_name)\n",
    "\n",
    "    # Model definition\n",
    "\n",
    "    opt = tf.keras.optimizers.Adam(lr=0.000003)\n",
    "\n",
    "    model = Sequential()\n",
    "    model.add(Masking(input_shape=(train_x.shape[1], train_x.shape[2])))\n",
    "    model.add(LSTM(128, activation='selu',\n",
    "                    return_sequences=True,\n",
    "                    kernel_regularizer=regularizers.l2(0.0002)))\n",
    "    model.add(LSTM(64, activation='selu', return_sequences=False,\n",
    "                    kernel_regularizer=regularizers.l2(0.0002)))\n",
    "    model.add(Dense(64, activation='selu', kernel_regularizer=regularizers.l2(0.0002)))\n",
    "    model.add(Dense(32, activation='selu', kernel_regularizer=regularizers.l2(0.0002)))\n",
    "    model.add(Dense(1, activation='linear'))\n",
    "    model.summary()\n",
    "\n",
    "    model.compile(optimizer=opt, loss='huber', metrics=['mse', 'mae', 'mape', tf.keras.metrics.RootMeanSquaredError(name='rmse')])"
   ]
  },
  {
   "cell_type": "code",
   "execution_count": null,
   "metadata": {
    "id": "AIEcv6Ey2Utu"
   },
   "outputs": [],
   "source": [
    "if IS_TRAINING:\n",
    "    history = model.fit(train_x, train_y,\n",
    "                                epochs=500, \n",
    "                                batch_size=32, \n",
    "                                verbose=1,\n",
    "                                validation_split=0\n",
    "                               )"
   ]
  },
  {
   "cell_type": "code",
   "execution_count": null,
   "metadata": {
    "id": "oNHlqcvP2Utx"
   },
   "outputs": [],
   "source": [
    "if IS_TRAINING:\n",
    "    model.save(data_path + 'results/trained_model/%s.h5' % experiment_name)\n",
    "\n",
    "    hist_df = pd.DataFrame(history.history)\n",
    "    hist_csv_file = data_path + 'results/trained_model/%s_history.csv' % experiment_name\n",
    "    with open(hist_csv_file, mode='w') as f:\n",
    "        hist_df.to_csv(f)\n",
    "    history = history.history"
   ]
  },
  {
   "cell_type": "code",
   "execution_count": null,
   "metadata": {},
   "outputs": [],
   "source": [
    "if not IS_TRAINING:\n",
    "    history = pd.read_csv(data_path + 'results/trained_model/%s_history.csv' % RESULT_NAME)\n",
    "    model = keras.models.load_model(data_path + 'results/trained_model/%s.h5' % RESULT_NAME)\n",
    "    model.summary()"
   ]
  },
  {
   "cell_type": "code",
   "execution_count": null,
   "metadata": {},
   "outputs": [],
   "source": [
    "if not IS_TRAINING:\n",
    "    with pd.option_context('display.max_rows', None, 'display.max_columns', None):\n",
    "        print(history)"
   ]
  },
  {
   "cell_type": "markdown",
   "metadata": {
    "id": "LH5RANQIEQVx"
   },
   "source": [
    "### Testing"
   ]
  },
  {
   "cell_type": "code",
   "execution_count": null,
   "metadata": {
    "id": "ggNKW-VqENFN"
   },
   "outputs": [],
   "source": [
    "results = model.evaluate(test_x, test_y, return_dict = True)\n",
    "print(results)\n",
    "max_rmse = 0\n",
    "for index in range(test_x.shape[0]):\n",
    "    result = model.evaluate(np.array([test_x[index, :, :]]), np.array([test_y[index]]), return_dict = True, verbose=0)\n",
    "    max_rmse = max(max_rmse, result['rmse'])\n",
    "print(\"Max rmse: {}\".format(max_rmse))"
   ]
  },
  {
   "cell_type": "markdown",
   "metadata": {
    "id": "uiqyD8Bn2Utz"
   },
   "source": [
    "# Results Visualization"
   ]
  },
  {
   "cell_type": "code",
   "execution_count": null,
   "metadata": {
    "id": "jH9RrBRN2Utz"
   },
   "outputs": [],
   "source": [
    "fig = go.Figure()\n",
    "fig.add_trace(go.Scatter(y=history['loss'],\n",
    "                    mode='lines', name='train'))\n",
    "if 'val_loss' in history:\n",
    "    fig.add_trace(go.Scatter(y=history['val_loss'],\n",
    "                    mode='lines', name='validation'))\n",
    "fig.update_layout(title='Loss trend',\n",
    "                  xaxis_title='epoch',\n",
    "                  yaxis_title='loss',\n",
    "                  width=1400,\n",
    "                  height=600)\n",
    "fig.show()"
   ]
  },
  {
   "cell_type": "code",
   "execution_count": null,
   "metadata": {
    "id": "gtLOteXd-d6n"
   },
   "outputs": [],
   "source": [
    "train_predictions = model.predict(train_x)\n",
    "\n",
    "train_y = y_norm.denormalize(train_y)\n",
    "train_predictions = y_norm.denormalize(train_predictions)"
   ]
  },
  {
   "cell_type": "code",
   "execution_count": null,
   "metadata": {},
   "outputs": [],
   "source": [
    "a = 0\n",
    "for b in train_battery_range:\n",
    "    fig = go.Figure()\n",
    "    fig.add_trace(go.Scatter(x=train_y_soh[a:b], y=train_predictions[a:b,0],\n",
    "                        mode='lines', name='predicted'))\n",
    "    fig.add_trace(go.Scatter(x=train_y_soh[a:b], y=train_y[a:b],\n",
    "                        mode='lines', name='actual'))\n",
    "    fig.update_layout(title='Results on training',\n",
    "                    xaxis_title='SoH Capacity',\n",
    "                    yaxis_title='Remaining Ah until EOL',\n",
    "                    xaxis={'autorange':'reversed'},\n",
    "                    width=1400,\n",
    "                    height=600)\n",
    "    fig.show()\n",
    "    a = b"
   ]
  },
  {
   "cell_type": "code",
   "execution_count": null,
   "metadata": {
    "id": "Pe1Pzp04J1b5"
   },
   "outputs": [],
   "source": [
    "a = 0\n",
    "for b in train_battery_range:\n",
    "    fig = go.Figure()\n",
    "    fig.add_trace(go.Scatter(y=train_predictions[a:b,0],\n",
    "                        mode='lines', name='predicted'))\n",
    "    fig.add_trace(go.Scatter(y=train_y[a:b],\n",
    "                        mode='lines', name='actual'))\n",
    "    fig.update_layout(title='Results on training',\n",
    "                    xaxis_title='Cycle',\n",
    "                    yaxis_title='Remaining Ah until EOL',\n",
    "                    width=1400,\n",
    "                    height=600)\n",
    "    fig.show()\n",
    "    a = b"
   ]
  },
  {
   "cell_type": "code",
   "execution_count": null,
   "metadata": {
    "id": "m0olyqr4-8BG"
   },
   "outputs": [],
   "source": [
    "test_predictions = model.predict(test_x)\n",
    "\n",
    "test_y = y_norm.denormalize(test_y)\n",
    "test_predictions = y_norm.denormalize(test_predictions)"
   ]
  },
  {
   "cell_type": "code",
   "execution_count": null,
   "metadata": {},
   "outputs": [],
   "source": [
    "a = 0\n",
    "for b in test_battery_range:\n",
    "    fig = go.Figure()\n",
    "    fig.add_trace(go.Scatter(x=test_y_soh[a:b], y=test_predictions[a:b,0],\n",
    "                        mode='lines', name='predicted'))\n",
    "    fig.add_trace(go.Scatter(x = test_y_soh[a:b], y=test_y[a:b],\n",
    "                        mode='lines', name='actual'))\n",
    "    fig.update_layout(title='Results on testing',\n",
    "                    xaxis_title='SoH Capacity',\n",
    "                    yaxis_title='Remaining Ah until EOL',\n",
    "                    xaxis={'autorange':'reversed'},\n",
    "                    width=1400,\n",
    "                    height=600)\n",
    "    fig.show()\n",
    "    a = b"
   ]
  },
  {
   "cell_type": "code",
   "execution_count": null,
   "metadata": {
    "id": "uLEl8nALKAgJ"
   },
   "outputs": [],
   "source": [
    "a = 0\n",
    "for b in test_battery_range:\n",
    "    fig = go.Figure()\n",
    "    fig.add_trace(go.Scatter(y=test_predictions[a:b, 0],\n",
    "                        mode='lines', name='predicted'))\n",
    "    fig.add_trace(go.Scatter(y=test_y[a:b],\n",
    "                        mode='lines', name='actual'))\n",
    "    fig.update_layout(title='Results on testing',\n",
    "                    xaxis_title='Cycle',\n",
    "                    yaxis_title='Remaining Ah until EOL',\n",
    "                    width=1400,\n",
    "                    height=600)\n",
    "    fig.show()\n",
    "    a = b"
   ]
  }
 ],
 "metadata": {
  "accelerator": "GPU",
  "colab": {
   "collapsed_sections": [],
   "name": "lstm_soh_prediction_only_future.ipynb",
   "provenance": []
  },
  "interpreter": {
   "hash": "31f2aee4e71d21fbe5cf8b01ff0e069b9275f58929596ceb00d14d90e3e16cd6"
  },
  "kernelspec": {
   "display_name": "Python 3.8.2 64-bit",
   "name": "python3"
  },
  "language_info": {
   "codemirror_mode": {
    "name": "ipython",
    "version": 3
   },
   "file_extension": ".py",
   "mimetype": "text/x-python",
   "name": "python",
   "nbconvert_exporter": "python",
   "pygments_lexer": "ipython3",
   "version": "3.8.2"
  },
  "metadata": {
   "interpreter": {
    "hash": "31f2aee4e71d21fbe5cf8b01ff0e069b9275f58929596ceb00d14d90e3e16cd6"
   }
  }
 },
 "nbformat": 4,
 "nbformat_minor": 4
}
